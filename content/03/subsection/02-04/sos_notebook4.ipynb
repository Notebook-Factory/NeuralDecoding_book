{
 "cells": [
  {
   "cell_type": "markdown",
   "metadata": {
    "kernel": "SoS"
   },
   "source": [
    "*** \n",
    "This code example is a Jupyter notebook with [Script of Scripts](https://vatlab.github.io/sos-docs/) (SoS) workflow. It reproduces interactive figures for the paper by first author **Ardi Tampuu** and last author **Raul Vicente**. \n",
    "\n",
    "\n",
    "The calculations are written using *Python 2.7* (from this fetched from [repo](https://github.com/NeuroCSUT/RatGPS)), and the interactive figures are written in *Python 3.6* with the ploting library [Plotly](https://plotly.com/).  "
   ]
  },
  {
   "cell_type": "markdown",
   "metadata": {
    "kernel": "SoS"
   },
   "source": [
    "# Figure 4:\n",
    "\n",
    "**(a)** The trajectory of the rat during the entire trial. Not all parts of the arena are visited with equal frequently. **(b)** The average size of errors made in different regions of space. Color of each hexagon depicts the average euclidean error of data points falling into the hexagon. More frequently visited areas (as seen from **(a)**) tend to have lower mean error. **(c)** Sum neural activity in different regions of space. For each data point we sum the spike counts of all 63 neurons in a 1400 ms period centered around the moment the location was recorded. The color of the hexagon corresponds to the average over all data points falling into the hexagon. Areas where sum neural activity is high have lower prediction error. **(d)** Prediction error of a coordinate decreases if the animal is closer to the wall perpendicular to that coordinate.\n",
    "\n",
    "https://doi.org/10.1371/journal.pcbi.1006822.g004"
   ]
  },
  {
   "cell_type": "markdown",
   "metadata": {
    "kernel": "SoS"
   },
   "source": [
    "## Python 2.7\n",
    "***\n",
    "Figure with calculations in Python 2.7 Matplotlib: "
   ]
  },
  {
   "cell_type": "markdown",
   "metadata": {
    "kernel": "Python2"
   },
   "source": [
    "## Python 3.7\n",
    "*** \n",
    "Figures with calculations in Python 3.7: "
   ]
  },
  {
   "cell_type": "markdown",
   "metadata": {
    "kernel": "Python3"
   },
   "source": [
    "### (a) \n",
    "Figure 4.a, Matplotlib: "
   ]
  },
  {
   "cell_type": "markdown",
   "metadata": {
    "kernel": "Python3"
   },
   "source": [
    "Figure 4.a, Plotly: "
   ]
  },
  {
   "cell_type": "markdown",
   "metadata": {
    "kernel": "Python3"
   },
   "source": [
    "### (b) \n",
    "Figure 4.b, Matplotlib"
   ]
  },
  {
   "cell_type": "markdown",
   "metadata": {
    "kernel": "Python3"
   },
   "source": [
    "Figure 4.b, Plotly: "
   ]
  },
  {
   "cell_type": "markdown",
   "metadata": {
    "kernel": "SoS"
   },
   "source": [
    "### (c) \n",
    "Figure 4.c, Matplotlib:"
   ]
  },
  {
   "cell_type": "markdown",
   "metadata": {
    "kernel": "SoS"
   },
   "source": [
    "Figure 4.c, Plotly: "
   ]
  },
  {
   "cell_type": "markdown",
   "metadata": {
    "kernel": "SoS"
   },
   "source": [
    "### (d) \n",
    "Figure 4.d, Matplotlib:"
   ]
  },
  {
   "cell_type": "markdown",
   "metadata": {
    "kernel": "SoS"
   },
   "source": [
    "Figure 4.d, Plotly: "
   ]
  }
 ],
 "metadata": {
  "celltoolbar": "Edit Metadata",
  "kernelspec": {
   "display_name": "SoS",
   "language": "sos",
   "name": "sos"
  },
  "language_info": {
   "codemirror_mode": "sos",
   "file_extension": ".sos",
   "mimetype": "text/x-sos",
   "name": "sos",
   "nbconvert_exporter": "sos_notebook.converter.SoS_Exporter",
   "pygments_lexer": "sos"
  },
  "sos": {
   "kernels": [
    [
     "Python2",
     "python2",
     "Python2",
     "#FFF177",
     {
      "name": "ipython",
      "version": 2
     }
    ],
    [
     "Python3",
     "python3",
     "Python3",
     "#FFD91A",
     {
      "name": "ipython",
      "version": 3
     }
    ]
   ],
   "panel": {
    "displayed": false,
    "height": 0
   },
   "version": "0.21.10"
  }
 },
 "nbformat": 4,
 "nbformat_minor": 4
}
