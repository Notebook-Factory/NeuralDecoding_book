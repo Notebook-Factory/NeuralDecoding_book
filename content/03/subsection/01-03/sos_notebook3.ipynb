{
 "cells": [
  {
   "cell_type": "markdown",
   "metadata": {
    "kernel": "SoS"
   },
   "source": [
    "*** \n",
    "This code example is a Jupyter notebook with [Script of Scripts](https://vatlab.github.io/sos-docs/) (SoS) workflow. It reproduces interactive figures for the paper by first author **Ardi Tampuu** and last author **Raul Vicente**. \n",
    "\n",
    "\n",
    "The calculations are written using *Python 2.7* (from this fetched from [repo](https://github.com/NeuroCSUT/RatGPS)), and the interactive figures are written in *Python 3.6* with the ploting library [Plotly](https://plotly.com/).  "
   ]
  },
  {
   "cell_type": "markdown",
   "metadata": {
    "kernel": "SoS"
   },
   "source": [
    "# Figure 3:\n",
    "\n",
    "**(a-b)** Decoding results in a 1m square environment. The RNN consistently outperforms the two Bayesian approaches in all 5 data sets. Mean and median errors across cross validation folds, respectively. **(c-d)** Decoding errors from a 600 cm long Z-shaped track. RNN consistently yields lower decoding errors than the Bayesian approaches, the difference is more marked when mean **(c)** as oppose to median **(d)** errors are considered.\n",
    "\n",
    "https://doi.org/10.1371/journal.pcbi.1006822.g003"
   ]
  },
  {
   "cell_type": "markdown",
   "metadata": {
    "kernel": "SoS"
   },
   "source": [
    "## Python 2.7\n",
    "***\n",
    "Figure with calculations in Python 2.7 Matplotlib: "
   ]
  },
  {
   "cell_type": "markdown",
   "metadata": {
    "kernel": "Python2"
   },
   "source": [
    "## Python 3.7\n",
    "*** \n",
    "Figures with calculations in Python 3.7: "
   ]
  },
  {
   "cell_type": "markdown",
   "metadata": {
    "kernel": "Python3"
   },
   "source": [
    "### (a) Mean errors in 2D decoding task\n",
    "Figure 3.a, Matplotlib: "
   ]
  },
  {
   "cell_type": "markdown",
   "metadata": {
    "kernel": "Python3"
   },
   "source": [
    "Figure 3.a, Plotly: "
   ]
  },
  {
   "cell_type": "markdown",
   "metadata": {
    "kernel": "Python3"
   },
   "source": [
    "### (b) Median errors in 2D decoding task\n",
    "Figure 3.b, Matplotlib"
   ]
  },
  {
   "cell_type": "markdown",
   "metadata": {
    "kernel": "Python3"
   },
   "source": [
    "Figure 3.b, Plotly: "
   ]
  },
  {
   "cell_type": "markdown",
   "metadata": {
    "kernel": "SoS"
   },
   "source": [
    "### (c) Mean errors in 1D decoding task\n",
    "Figure 3.c, Matplotlib:"
   ]
  },
  {
   "cell_type": "markdown",
   "metadata": {
    "kernel": "SoS"
   },
   "source": [
    "Figure 3.c, Plotly: "
   ]
  },
  {
   "cell_type": "markdown",
   "metadata": {
    "kernel": "SoS"
   },
   "source": [
    "### (d) Median errors in 1D decoding task\n",
    "Figure 3.d, Matplotlib:"
   ]
  },
  {
   "cell_type": "markdown",
   "metadata": {
    "kernel": "SoS"
   },
   "source": [
    "Figure 3.d, Plotly: "
   ]
  }
 ],
 "metadata": {
  "celltoolbar": "Edit Metadata",
  "kernelspec": {
   "display_name": "SoS",
   "language": "sos",
   "name": "sos"
  },
  "language_info": {
   "codemirror_mode": "sos",
   "file_extension": ".sos",
   "mimetype": "text/x-sos",
   "name": "sos",
   "nbconvert_exporter": "sos_notebook.converter.SoS_Exporter",
   "pygments_lexer": "sos"
  },
  "sos": {
   "kernels": [
    [
     "Python2",
     "python2",
     "Python2",
     "#FFF177",
     {
      "name": "ipython",
      "version": 2
     }
    ],
    [
     "Python3",
     "python3",
     "Python3",
     "#FFD91A",
     {
      "name": "ipython",
      "version": 3
     }
    ]
   ],
   "panel": {
    "displayed": false,
    "height": 0
   },
   "version": "0.21.10"
  }
 },
 "nbformat": 4,
 "nbformat_minor": 4
}
