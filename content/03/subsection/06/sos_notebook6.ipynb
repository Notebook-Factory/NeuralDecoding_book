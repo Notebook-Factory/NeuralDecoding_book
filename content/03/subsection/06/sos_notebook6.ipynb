{
 "cells": [
  {
   "cell_type": "markdown",
   "metadata": {
    "kernel": "SoS"
   },
   "source": [
    "*** \n",
    "This code example is a Jupyter notebook with [Script of Scripts](https://vatlab.github.io/sos-docs/) (SoS) workflow. It reproduces interactive figures for the paper by first author **Ardi Tampuu** and last author **Raul Vicente**. \n",
    "\n",
    "\n",
    "The calculations are written using *Python 2.7* (from this fetched from [repo](https://github.com/NeuroCSUT/RatGPS)), and the interactive figures are written in *Python 3.6* with the ploting library [Plotly](https://plotly.com/).  "
   ]
  },
  {
   "cell_type": "markdown",
   "metadata": {
    "kernel": "SoS"
   },
   "source": [
    "# Figure 6:\n",
    "\n",
    "**(a)** Place field of an example neuron. **(b)** Sensitivity field—absolute values of gradients in different locations for the same neuron. **(c)** Normalized sensitivity as a function of normalized activity across neurons.\n",
    "\n",
    "https://doi.org/10.1371/journal.pcbi.1006822.g006"
   ]
  },
  {
   "cell_type": "markdown",
   "metadata": {
    "kernel": "SoS"
   },
   "source": [
    "## Python 2.7\n",
    "***\n",
    "Figure with calculations in Python 2.7 Matplotlib: "
   ]
  },
  {
   "cell_type": "markdown",
   "metadata": {
    "kernel": "Python2"
   },
   "source": [
    "## Python 3.7\n",
    "*** \n",
    "Figures with calculations in Python 3.7: "
   ]
  },
  {
   "cell_type": "markdown",
   "metadata": {
    "kernel": "Python3"
   },
   "source": [
    "### (a) Neuron #41 activity\n",
    "Figure 6.a, Matplotlib: "
   ]
  },
  {
   "cell_type": "markdown",
   "metadata": {
    "kernel": "Python3"
   },
   "source": [
    "Figure 6.a, Plotly: "
   ]
  },
  {
   "cell_type": "markdown",
   "metadata": {
    "kernel": "SoS"
   },
   "source": [
    "### (b) Neuron #41 gradient strength \n",
    "Figure 6.b, Matplotlib"
   ]
  },
  {
   "cell_type": "markdown",
   "metadata": {
    "kernel": "SoS"
   },
   "source": [
    "Figure 6.b, Plotly"
   ]
  },
  {
   "cell_type": "markdown",
   "metadata": {
    "kernel": "SoS"
   },
   "source": [
    "### (c) Sensitivity / Activity on neuron \n",
    "Figure 6.c, Matplotlib"
   ]
  },
  {
   "cell_type": "markdown",
   "metadata": {
    "kernel": "SoS"
   },
   "source": [
    "Figure 6.c, Matplotlib"
   ]
  }
 ],
 "metadata": {
  "celltoolbar": "Edit Metadata",
  "kernelspec": {
   "display_name": "SoS",
   "language": "sos",
   "name": "sos"
  },
  "language_info": {
   "codemirror_mode": "sos",
   "file_extension": ".sos",
   "mimetype": "text/x-sos",
   "name": "sos",
   "nbconvert_exporter": "sos_notebook.converter.SoS_Exporter",
   "pygments_lexer": "sos"
  },
  "sos": {
   "kernels": [
    [
     "Python2",
     "python2",
     "Python2",
     "#FFF177",
     {
      "name": "ipython",
      "version": 2
     }
    ],
    [
     "Python3",
     "python3",
     "Python3",
     "#FFD91A",
     {
      "name": "ipython",
      "version": 3
     }
    ]
   ],
   "panel": {
    "displayed": false,
    "height": 0
   },
   "version": "0.21.10"
  }
 },
 "nbformat": 4,
 "nbformat_minor": 4
}
